{
 "cells": [
  {
   "cell_type": "markdown",
   "metadata": {
    "id": "BkL0bFLAWR10"
   },
   "source": [
    "# Beginner Python prep"
   ]
  },
  {
   "cell_type": "markdown",
   "metadata": {
    "id": "_VuU0n1sVQoM"
   },
   "source": [
    "## Week 1"
   ]
  },
  {
   "cell_type": "markdown",
   "metadata": {
    "id": "WLieMekB8Qew"
   },
   "source": [
    "### Problem 1: Simple Arithmetic and String Formatting"
   ]
  },
  {
   "cell_type": "markdown",
   "metadata": {
    "id": "swZ6o9uCVjho"
   },
   "source": [
    "**Difficulty:** Easy\n",
    "\n",
    "**Topics Covered:**\n",
    "\n",
    "- Variables\n",
    "- Arithmetic Operations\n",
    "- Operator precedence (PEMDAS)\n",
    "- User Input – String\n",
    "- Type Conversions\n",
    "- String Conversions\n",
    "- Controlling the print function\n",
    "- The format() function\n",
    "\n",
    "**Problem Statement:**\n",
    "\n",
    "Write a Python program that:\n",
    "\n",
    "1. Prompts the user to enter their name.\n",
    "2. Prompts the user to enter two integers.\n",
    "3. Calculates the sum, difference, product, and quotient of the two integers.\n",
    "4. Prints a formatted string with the user's name and the results of the arithmetic operations.\n",
    "\n",
    "**Example:**\n",
    "\n",
    "```plaintext\n",
    "Enter your name: Alice\n",
    "Enter the first integer: 10\n",
    "Enter the second integer: 5\n",
    "\n",
    "Hello, Alice!\n",
    "The sum of 10 and 5 is 15.\n",
    "The difference of 10 and 5 is 5.\n",
    "The product of 10 and 5 is 50.\n",
    "The quotient of 10 and 5 is 2.0.\n",
    "```"
   ]
  },
  {
   "cell_type": "code",
   "execution_count": null,
   "metadata": {
    "colab": {
     "base_uri": "https://localhost:8080/",
     "height": 365
    },
    "id": "dGCKWOLU8YNV",
    "outputId": "c7b8f7fb-8a57-4b90-f4be-de526aa360db"
   },
   "outputs": [],
   "source": [
    "#TODO"
   ]
  },
  {
   "cell_type": "markdown",
   "metadata": {
    "id": "WnTL7YwrG55Y"
   },
   "source": [
    "### Problem 2: Specialized Assignment Operators and Control Codes"
   ]
  },
  {
   "cell_type": "markdown",
   "metadata": {
    "id": "3ar0X-p8V0lz"
   },
   "source": [
    "**Difficulty:** Medium\n",
    "\n",
    "**Topics Covered:**\n",
    "\n",
    "- Variables\n",
    "- Specialized Assignment Operators\n",
    "- Control codes within strings\n",
    "- Controlling the print function\n",
    "\n",
    "**Problem Statement:**\n",
    "\n",
    "Write a Python program that:\n",
    "\n",
    "1. Initializes a variable `count` to 0.\n",
    "2. Prompts the user to enter five integers, one by one.\n",
    "3. Uses specialized assignment operators to update `count` with the sum of the entered integers.\n",
    "4. Prints the final value of `count` using control codes to format the output.\n",
    "\n",
    "**Example:**\n",
    "\n",
    "```plaintext\n",
    "Enter integer 1: 4\n",
    "Enter integer 2: 7\n",
    "Enter integer 3: 3\n",
    "Enter integer 4: 8\n",
    "Enter integer 5: 1\n",
    "\n",
    "The total sum is:\n",
    "===============\n",
    "15\n",
    "===============\n",
    "```\n"
   ]
  },
  {
   "cell_type": "code",
   "execution_count": null,
   "metadata": {
    "colab": {
     "base_uri": "https://localhost:8080/",
     "height": 108
    },
    "id": "m8JaImdSG7h6",
    "outputId": "5bcea617-94c9-4f9c-d111-e105deac3a41"
   },
   "outputs": [],
   "source": [
    "#TODO"
   ]
  },
  {
   "cell_type": "markdown",
   "metadata": {
    "id": "0M7MpeDuNln3"
   },
   "source": [
    "### Problem 3: Type Conversions and Mixed Type Expressions"
   ]
  },
  {
   "cell_type": "markdown",
   "metadata": {
    "id": "px3m7TMqV57G"
   },
   "source": [
    "\n",
    "**Difficulty:** Intermediate\n",
    "\n",
    "**Topics Covered:**\n",
    "\n",
    "- Variables\n",
    "- Type Conversions\n",
    "- Mixed Type Expressions\n",
    "- Integer Division\n",
    "- round() function\n",
    "\n",
    "**Problem Statement:**\n",
    "\n",
    "Write a Python program that:\n",
    "\n",
    "1. Prompts the user to enter a float value representing the total bill amount.\n",
    "2. Prompts the user to enter an integer value representing the number of people to split the bill.\n",
    "3. Calculates the amount each person should pay, ensuring that the result is rounded to two decimal places.\n",
    "4. Prints the result using mixed type expressions and the `round()` function.\n",
    "\n",
    "**Example:**\n",
    "\n",
    "```plaintext\n",
    "Enter the total bill amount: 123.45\n",
    "Enter the number of people: 4\n",
    "\n",
    "Each person should pay: $30.86\n",
    "```"
   ]
  },
  {
   "cell_type": "code",
   "execution_count": null,
   "metadata": {
    "colab": {
     "base_uri": "https://localhost:8080/"
    },
    "id": "9CQxfgKANmzU",
    "outputId": "78143672-a0a8-47b0-9b35-f9a0ff936475"
   },
   "outputs": [],
   "source": [
    "#TODO"
   ]
  },
  {
   "cell_type": "markdown",
   "metadata": {
    "id": "C2Dt0A3WRN5r"
   },
   "source": [
    "### Problem 4: Comprehensive Problem with Multiple Topics\n",
    "\n"
   ]
  },
  {
   "cell_type": "markdown",
   "metadata": {
    "id": "HYoDug3EWF6q"
   },
   "source": [
    "\n",
    "**Difficulty:** Expert\n",
    "\n",
    "**Topics Covered:**\n",
    "\n",
    "- Variables\n",
    "- Constants\n",
    "- Assignment Statements\n",
    "- Arithmetic Operations\n",
    "- Operator precedence (PEMDAS)\n",
    "- User Input - Numeric\n",
    "- Specialized Assignment Operators\n",
    "- Integer Division\n",
    "- Mixed Type Expressions\n",
    "- The format() function\n",
    "\n",
    "**Problem Statement:**\n",
    "\n",
    "Write a Python program that:\n",
    "\n",
    "1. Defines a constant for the sales tax rate (e.g., 0.07 for 7%).\n",
    "2. Prompts the user to enter the price of three items.\n",
    "3. Calculates the total price before tax, the total sales tax, and the final price after tax.\n",
    "4. Uses appropriate identifiers and ensures that the results are printed with proper formatting.\n",
    "5. Handles both integer and float inputs appropriately.\n",
    "\n",
    "**Example:**\n",
    "\n",
    "```plaintext\n",
    "Enter the price of item 1: 19.99\n",
    "Enter the price of item 2: 5.49\n",
    "Enter the price of item 3: 12.75\n",
    "\n",
    "Subtotal: $38.23\n",
    "Sales Tax (7%): $2.68\n",
    "Total: $40.91\n",
    "```"
   ]
  },
  {
   "cell_type": "code",
   "execution_count": null,
   "metadata": {
    "colab": {
     "base_uri": "https://localhost:8080/"
    },
    "id": "VDn5tyBuROwi",
    "outputId": "f6ed7f90-0389-4e17-bb99-e0db5fc72a8e"
   },
   "outputs": [],
   "source": [
    "#TODO"
   ]
  },
  {
   "cell_type": "markdown",
   "metadata": {
    "id": "aWu69f5UWIJJ"
   },
   "source": [
    "## Week 2"
   ]
  },
  {
   "cell_type": "markdown",
   "metadata": {
    "id": "jbIJpM3YWWaz"
   },
   "source": [
    "### Problem 1: Basic Comparison and Conditional Execution"
   ]
  },
  {
   "cell_type": "markdown",
   "metadata": {
    "id": "45csAoTKWyZM"
   },
   "source": [
    "**Difficulty:** Easy\n",
    "\n",
    "**Topics Covered:**\n",
    "\n",
    "- Boolean Expressions\n",
    "- Comparison Operators\n",
    "- Conditional Execution\n",
    "\n",
    "**Problem Statement:**\n",
    "\n",
    "Write a Python program that:\n",
    "\n",
    "1. Prompts the user to enter an integer.\n",
    "2. Checks if the entered integer is even or odd.\n",
    "3. Prints \"The number is even.\" if the number is even, otherwise prints \"The number is odd.\"\n",
    "\n",
    "**Example:**\n",
    "\n",
    "```plaintext\n",
    "Enter an integer: 4\n",
    "The number is even.\n",
    "```"
   ]
  },
  {
   "cell_type": "code",
   "execution_count": null,
   "metadata": {
    "colab": {
     "base_uri": "https://localhost:8080/"
    },
    "id": "Jd9WrYJQW1d0",
    "outputId": "1bc716ee-d147-4598-bd6a-69ea49e04568"
   },
   "outputs": [],
   "source": [
    "#TODO"
   ]
  },
  {
   "cell_type": "markdown",
   "metadata": {
    "id": "Yx9kdzjEW4Iu"
   },
   "source": [
    "### Problem 2: Logical Comparisons and Alternate Execution"
   ]
  },
  {
   "cell_type": "markdown",
   "metadata": {
    "id": "iKCnl8JwW8Jj"
   },
   "source": [
    "**Difficulty:** Medium\n",
    "\n",
    "**Topics Covered:**\n",
    "\n",
    "- Boolean Expressions\n",
    "- Comparison Operators\n",
    "- Logical Comparisons\n",
    "- Alternate Execution\n",
    "\n",
    "**Problem Statement:**\n",
    "\n",
    "Write a Python program that:\n",
    "\n",
    "1. Prompts the user to enter their age.\n",
    "2. Checks if the age is within a valid range (0-120).\n",
    "3. If the age is within the range, prints \"Valid age.\"\n",
    "4. If the age is not within the range, prints \"Invalid age.\"\n",
    "\n",
    "**Example:**\n",
    "\n",
    "```plaintext\n",
    "Enter your age: 25\n",
    "Valid age.\n",
    "```"
   ]
  },
  {
   "cell_type": "code",
   "execution_count": null,
   "metadata": {
    "colab": {
     "base_uri": "https://localhost:8080/"
    },
    "id": "x6Plg2JxW_IK",
    "outputId": "a0291c50-1582-441e-c0a6-e9071d357957"
   },
   "outputs": [],
   "source": [
    "#TODO"
   ]
  },
  {
   "cell_type": "markdown",
   "metadata": {
    "id": "DGHUdiDrXAbV"
   },
   "source": [
    "### Problem 3: Chained Conditionals"
   ]
  },
  {
   "cell_type": "markdown",
   "metadata": {
    "id": "Rib6Ze8xXDJc"
   },
   "source": [
    "**Difficulty:** Intermediate\n",
    "\n",
    "**Topics Covered:**\n",
    "\n",
    "- Boolean Expressions\n",
    "- Comparison Operators\n",
    "- Logical Comparisons\n",
    "- Chained Conditionals\n",
    "\n",
    "**Problem Statement:**\n",
    "\n",
    "Write a Python program that:\n",
    "\n",
    "1. Prompts the user to enter a numerical grade (0-100).\n",
    "2. Uses chained conditionals to print the corresponding letter grade:\n",
    "   - 90-100: A\n",
    "   - 80-89: B\n",
    "   - 70-79: C\n",
    "   - 60-69: D\n",
    "   - 0-59: F\n",
    "\n",
    "**Example:**\n",
    "\n",
    "```plaintext\n",
    "Enter your grade: 85\n",
    "Your letter grade is: B\n",
    "```"
   ]
  },
  {
   "cell_type": "code",
   "execution_count": null,
   "metadata": {
    "colab": {
     "base_uri": "https://localhost:8080/"
    },
    "id": "zPPce2_dXGOm",
    "outputId": "27138dff-8906-4ce3-fa03-afc4f896110e"
   },
   "outputs": [],
   "source": [
    "#TODO"
   ]
  },
  {
   "cell_type": "markdown",
   "metadata": {
    "id": "do3NAuDOXHdI"
   },
   "source": [
    "### Problem 4: Nested if Statements and Short Circuit Evaluation"
   ]
  },
  {
   "cell_type": "markdown",
   "metadata": {
    "id": "IsYwVwVWXJzQ"
   },
   "source": [
    "**Difficulty:** Advanced\n",
    "\n",
    "**Topics Covered:**\n",
    "\n",
    "- Boolean Expressions\n",
    "- Comparison Operators\n",
    "- Logical Comparisons\n",
    "- Nested if statements\n",
    "- Short Circuit Evaluation\n",
    "\n",
    "**Problem Statement:**\n",
    "\n",
    "Write a Python program that:\n",
    "\n",
    "1. Prompts the user to enter a year.\n",
    "2. Checks if the year is a leap year using nested if statements and short circuit evaluation.\n",
    "3. Prints \"Leap year\" if the year is a leap year, otherwise prints \"Not a leap year.\"\n",
    "\n",
    "**Leap Year Rules:**\n",
    "\n",
    "- A year is a leap year if it is divisible by 4.\n",
    "- However, if the year is divisible by 100, it is not a leap year, unless it is also divisible by 400.\n",
    "\n",
    "**Example:**\n",
    "\n",
    "```plaintext\n",
    "Enter a year: 2024\n",
    "Leap year\n",
    "```"
   ]
  },
  {
   "cell_type": "code",
   "execution_count": null,
   "metadata": {
    "colab": {
     "base_uri": "https://localhost:8080/"
    },
    "id": "jVud4YTEXNBn",
    "outputId": "b4ce68d8-e2ba-4ee7-ce75-dc6d1dada3c0"
   },
   "outputs": [],
   "source": [
    "#TODO"
   ]
  },
  {
   "cell_type": "markdown",
   "metadata": {
    "id": "2e76MCBDXOgQ"
   },
   "source": [
    "### Problem 5: Complex Conditional Logic with Multiple Conditions"
   ]
  },
  {
   "cell_type": "markdown",
   "metadata": {
    "id": "PqwKMsdkXRUU"
   },
   "source": [
    "**Difficulty:** Expert\n",
    "\n",
    "**Topics Covered:**\n",
    "\n",
    "- Boolean Expressions\n",
    "- Comparison Operators\n",
    "- Logical Comparisons\n",
    "- Conditional Execution\n",
    "- Alternate Execution\n",
    "- Chained Conditionals\n",
    "- Nested if statements\n",
    "- Short Circuit Evaluation\n",
    "\n",
    "**Problem Statement:**\n",
    "\n",
    "Write a Python program that:\n",
    "\n",
    "1. Prompts the user to enter their age and annual income.\n",
    "2. Uses a combination of logical comparisons, chained conditionals, and nested if statements to determine the tax bracket and prints the appropriate tax rate based on the following rules:\n",
    "   - If age is less than 18, tax rate is 0%.\n",
    "   - If age is 18 or older and income is:\n",
    "     - Less than $10,000: tax rate is 10%\n",
    "     - $10,000 to $50,000: tax rate is 20%\n",
    "     - More than $50,000: tax rate is 30%\n",
    "   - If age is 65 or older, there is a discount of 5% on the above tax rates.\n",
    "\n",
    "**Example:**\n",
    "\n",
    "```plaintext\n",
    "Enter your age: 30\n",
    "Enter your annual income: 25000\n",
    "Your tax rate is: 20%\n",
    "\n",
    "Enter your age: 70\n",
    "Enter your annual income: 25000\n",
    "Your tax rate is: 15%\n",
    "```"
   ]
  },
  {
   "cell_type": "code",
   "execution_count": null,
   "metadata": {
    "colab": {
     "base_uri": "https://localhost:8080/"
    },
    "id": "w1Wu7ZhfXVRO",
    "outputId": "4ae7bff4-848f-4812-c968-d3d483399a09"
   },
   "outputs": [],
   "source": [
    "#TODO"
   ]
  },
  {
   "cell_type": "markdown",
   "metadata": {
    "id": "4pSoQK-5eiDL"
   },
   "source": [
    "## Week 3"
   ]
  },
  {
   "cell_type": "markdown",
   "metadata": {
    "id": "nVVlTTSAel7J"
   },
   "source": [
    "### Problem 1: Simple While Loop"
   ]
  },
  {
   "cell_type": "markdown",
   "metadata": {
    "id": "_BjTjImVet8t"
   },
   "source": [
    "**Difficulty:** Easy\n",
    "\n",
    "**Topics Covered:**\n",
    "\n",
    "- Indefinite loops - While loop Iteration\n",
    "\n",
    "**Problem Statement:**\n",
    "\n",
    "Write a Python program that:\n",
    "\n",
    "1. Prompts the user to enter positive integers.\n",
    "2. Continuously sums the integers entered by the user.\n",
    "3. Stops asking for input when the user enters a negative integer.\n",
    "4. Prints the total sum of the entered positive integers.\n",
    "\n",
    "**Example:**\n",
    "\n",
    "```plaintext\n",
    "Enter a positive integer (negative to stop): 10\n",
    "Enter a positive integer (negative to stop): 5\n",
    "Enter a positive integer (negative to stop): 8\n",
    "Enter a positive integer (negative to stop): -1\n",
    "The total sum is: 23\n",
    "```"
   ]
  },
  {
   "cell_type": "code",
   "execution_count": null,
   "metadata": {
    "colab": {
     "base_uri": "https://localhost:8080/"
    },
    "id": "8S8hQCixew8r",
    "outputId": "9cf95036-61c1-4f70-cd22-0df357e5466a"
   },
   "outputs": [],
   "source": [
    "#TODO"
   ]
  },
  {
   "cell_type": "markdown",
   "metadata": {
    "id": "9ro9ux6tezR0"
   },
   "source": [
    "### Problem 2: While Loop with break and continue"
   ]
  },
  {
   "cell_type": "markdown",
   "metadata": {
    "id": "kkGc4kl8e1zj"
   },
   "source": [
    "**Difficulty:** Medium\n",
    "\n",
    "**Topics Covered:**\n",
    "\n",
    "- Infinite Loops - while Iteration\n",
    "- break - while Iteration\n",
    "- continue - while Iteration\n",
    "\n",
    "**Problem Statement:**\n",
    "\n",
    "Write a Python program that:\n",
    "\n",
    "1. Prompts the user to enter an integer.\n",
    "2. Continuously generates and prints random numbers between 1 and 100.\n",
    "3. If the generated number is equal to the entered integer, prints a special message and breaks the loop.\n",
    "4. If the generated number is divisible by 5, skips printing that number and continues to the next iteration.\n",
    "\n",
    "**Example:**\n",
    "\n",
    "```plaintext\n",
    "Enter an integer between 1 and 100: 42\n",
    "Generated number: 73\n",
    "Generated number: 16\n",
    "Generated number: 25\n",
    "Generated number: 89\n",
    "Generated number: 42\n",
    "Number 42 found! Exiting loop.\n",
    "```"
   ]
  },
  {
   "cell_type": "code",
   "execution_count": null,
   "metadata": {
    "colab": {
     "base_uri": "https://localhost:8080/"
    },
    "id": "c5fEvLKie4Ab",
    "outputId": "2a34963e-e34a-46aa-fd83-586b3490a647"
   },
   "outputs": [],
   "source": [
    "#TODO"
   ]
  },
  {
   "cell_type": "markdown",
   "metadata": {
    "id": "8Ik2suw1e5k8"
   },
   "source": [
    "### Problem 3: For Loop with range and break"
   ]
  },
  {
   "cell_type": "markdown",
   "metadata": {
    "id": "BAn-KGw7e7sX"
   },
   "source": [
    "**Difficulty:** Intermediate\n",
    "\n",
    "**Topics Covered:**\n",
    "\n",
    "- Definite loops - for Iteration\n",
    "- range expression Iteration\n",
    "- break - for Iteration\n",
    "\n",
    "**Problem Statement:**\n",
    "\n",
    "Write a Python program that:\n",
    "\n",
    "1. Prompts the user to enter a positive integer `n`.\n",
    "2. Uses a `for` loop to iterate from 1 to `n` (inclusive).\n",
    "3. Prints each number.\n",
    "4. If a number is greater than or equal to 10, breaks the loop and prints \"Reached 10 or higher, stopping early.\"\n",
    "\n",
    "**Example:**\n",
    "\n",
    "```plaintext\n",
    "Enter a positive integer: 15\n",
    "1\n",
    "2\n",
    "3\n",
    "4\n",
    "5\n",
    "6\n",
    "7\n",
    "8\n",
    "9\n",
    "10\n",
    "Reached 10 or higher, stopping early.\n",
    "```"
   ]
  },
  {
   "cell_type": "code",
   "execution_count": null,
   "metadata": {
    "colab": {
     "base_uri": "https://localhost:8080/"
    },
    "id": "Hpq_MV6le-EP",
    "outputId": "149e5fe1-155e-42f0-c53e-039dfa5f1b13"
   },
   "outputs": [],
   "source": [
    "#TODO"
   ]
  },
  {
   "cell_type": "markdown",
   "metadata": {
    "id": "AoZ5QPcae_ez"
   },
   "source": [
    "### Problem 4: Nested Loops with continue"
   ]
  },
  {
   "cell_type": "markdown",
   "metadata": {
    "id": "kpN4fMunfBhi"
   },
   "source": [
    "**Difficulty:** Advanced\n",
    "\n",
    "**Topics Covered:**\n",
    "\n",
    "- Nested Loops Iteration\n",
    "- continue - for Iteration\n",
    "\n",
    "**Problem Statement:**\n",
    "\n",
    "Write a Python program that:\n",
    "\n",
    "1. Uses a nested `for` loop to print a 5x5 grid of numbers.\n",
    "2. The outer loop iterates from 1 to 5 (representing rows).\n",
    "3. The inner loop iterates from 1 to 5 (representing columns).\n",
    "4. If the current row number is equal to the current column number, skips printing that number and continues to the next column.\n",
    "\n",
    "**Example:**\n",
    "\n",
    "```plaintext\n",
    "2 3 4 5\n",
    "1 3 4 5\n",
    "1 2 4 5\n",
    "1 2 3 5\n",
    "1 2 3 4\n",
    "```\n"
   ]
  },
  {
   "cell_type": "code",
   "execution_count": null,
   "metadata": {
    "colab": {
     "base_uri": "https://localhost:8080/"
    },
    "id": "rqJJZyKBfE7U",
    "outputId": "d54a126f-c577-4557-9e9b-caed28b44b74"
   },
   "outputs": [],
   "source": [
    "#TODO\n",
    "\n"
   ]
  },
  {
   "cell_type": "markdown",
   "metadata": {
    "id": "lrwZrwZ-7rh5"
   },
   "source": [
    "### Problem 5: Pyramid Pattern with `break`"
   ]
  },
  {
   "cell_type": "markdown",
   "metadata": {
    "id": "p77qY8wQ7gck"
   },
   "source": [
    "**Difficulty:** Expert\n",
    "\n",
    "**Topics Covered:**\n",
    "\n",
    "- Nested Loops Iteration\n",
    "- `break` in Loops\n",
    "- Dead code\n",
    "\n",
    "**Problem Statement:**\n",
    "\n",
    "Write a Python program that:\n",
    "\n",
    "1. Uses nested `for` loops to print a pyramid pattern of `*`.\n",
    "2. The number of rows in the pyramid is provided by the user as an integer input.\n",
    "3. The outer loop iterates over each row (1 to `n`[should be odd]).\n",
    "4. The inner loop is responsible for printing spaces and `*` in each row.\n",
    "5. If user enters an even integer, print \"Please enter an odd integer\" and do nothing.\n",
    "6. Add a dead code purposely and add a comment to indicate the same.\n",
    "\n",
    "**Example:**\n",
    "\n",
    "For `n = 5` (number of rows), the output should be:\n",
    "\n",
    "```plaintext\n",
    "    *    \n",
    "   * *   \n",
    "  *   *  \n",
    " *     *\n",
    "*       *\n",
    "```"
   ]
  },
  {
   "cell_type": "code",
   "execution_count": null,
   "metadata": {
    "colab": {
     "base_uri": "https://localhost:8080/"
    },
    "id": "C60QioIr7x0D",
    "outputId": "e1cb500e-fca5-411f-f33f-88ef333bf69e"
   },
   "outputs": [],
   "source": [
    "#TODO\n"
   ]
  },
  {
   "cell_type": "markdown",
   "metadata": {
    "id": "AgwQog0ZfIVi"
   },
   "source": [
    "**Difficulty:** Expert\n",
    "\n",
    "**Topics Covered:**\n",
    "\n",
    "- Example loop patterns iteration\n",
    "- Dead Code - while Iteration\n",
    "\n",
    "**Problem Statement:**\n",
    "\n",
    "Write a Python program that:\n",
    "\n",
    "1. Prompts the user to enter a list of integers separated by spaces.\n",
    "2. Uses a `while` loop to find and print the maximum integer in the list.\n",
    "3. Includes a condition in the loop that would cause dead code (code that never executes) and ensure it is corrected.\n",
    "4. Uses a `for` loop to iterate over the list again and print only the odd numbers.\n",
    "\n",
    "**Example:**\n",
    "\n",
    "```plaintext\n",
    "Enter a list of integers separated by spaces: 3 7 2 9 5\n",
    "The maximum number is: 9\n",
    "Odd numbers in the list are:\n",
    "3\n",
    "7\n",
    "9\n",
    "5\n",
    "```"
   ]
  },
  {
   "cell_type": "markdown",
   "metadata": {
    "id": "z0RDbX29g2hE"
   },
   "source": [
    "## Week 4"
   ]
  },
  {
   "cell_type": "markdown",
   "metadata": {
    "id": "unMYsXt9g5Jv"
   },
   "source": [
    "### Problem 1: Basic Function Definition and Usage"
   ]
  },
  {
   "cell_type": "markdown",
   "metadata": {
    "id": "Jv2mG0Zcg5q5"
   },
   "source": [
    "###**Difficulty:** Easy\n",
    "\n",
    "**Topics Covered:**\n",
    "- Built-in functions\n",
    "- Defining and Using Functions\n",
    "\n",
    "**Problem Statement:**\n",
    "\n",
    "Write a Python program that:\n",
    "1. Defines a function `greet` that takes a name as a parameter and prints a greeting message.\n",
    "2. Prompts the user to enter their name.\n",
    "3. Calls the `greet` function with the entered name.\n",
    "\n",
    "**Example:**\n",
    "\n",
    "```plaintext\n",
    "Enter your name: Alice\n",
    "Hello, Alice!\n",
    "```"
   ]
  },
  {
   "cell_type": "code",
   "execution_count": null,
   "metadata": {
    "colab": {
     "base_uri": "https://localhost:8080/"
    },
    "id": "2kFsUgRUg9ny",
    "outputId": "4f343fc4-fc3e-43d2-a5d9-515367f8cb29"
   },
   "outputs": [],
   "source": [
    "#TODO"
   ]
  },
  {
   "cell_type": "markdown",
   "metadata": {
    "id": "W_to5gC0g8SW"
   },
   "source": [
    "### Problem 2: Fruitful and Void Functions with Default Parameter Values"
   ]
  },
  {
   "cell_type": "markdown",
   "metadata": {
    "id": "7E8uavXUhCV3"
   },
   "source": [
    "**Difficulty:** Medium\n",
    "\n",
    "**Topics Covered:**\n",
    "- Fruitful functions and void functions\n",
    "- Default values for parameters\n",
    "\n",
    "**Problem Statement:**\n",
    "\n",
    "Write a Python program that:\n",
    "1. Defines a function `area_of_rectangle` that takes two parameters: `width` and `height`, with default values of 1.\n",
    "   - The function should return the area of the rectangle.\n",
    "2. Defines a function `print_rectangle_area` that takes two parameters: `width` and `height`.\n",
    "   - The function should print the area of the rectangle.\n",
    "3. Calls the `print_rectangle_area` function with user input for width and height, and with default values.\n",
    "\n",
    "**Example:**\n",
    "\n",
    "```plaintext\n",
    "Enter the width of the rectangle: 5\n",
    "Enter the height of the rectangle: 4\n",
    "The area of the rectangle is: 20\n",
    "\n",
    "The area of the rectangle with default values is: 1\n",
    "```\n"
   ]
  },
  {
   "cell_type": "code",
   "execution_count": null,
   "metadata": {
    "colab": {
     "base_uri": "https://localhost:8080/"
    },
    "id": "M61-hybjhE4j",
    "outputId": "5f6e7b58-0c4f-4386-bc19-b9f8dcdcc07c"
   },
   "outputs": [],
   "source": [
    "#TODO"
   ]
  },
  {
   "cell_type": "markdown",
   "metadata": {
    "id": "_TdMpPEfhGFH"
   },
   "source": [
    "### Problem 3: Function Returning Multiple Values"
   ]
  },
  {
   "cell_type": "markdown",
   "metadata": {
    "id": "jfKpR5JlhH-t"
   },
   "source": [
    "**Difficulty:** Intermediate\n",
    "\n",
    "**Topics Covered:**\n",
    "- A function can return multiple values\n",
    "\n",
    "**Problem Statement:**\n",
    "\n",
    "Write a Python program that:\n",
    "1. Defines a function `calculate` that takes two numbers as parameters.\n",
    "   - The function should return the sum, difference, product, and quotient of the two numbers.\n",
    "2. Prompts the user to enter two numbers.\n",
    "3. Calls the `calculate` function with the entered numbers and prints the results.\n",
    "\n",
    "**Example:**\n",
    "\n",
    "```plaintext\n",
    "Enter the first number: 10\n",
    "Enter the second number: 2\n",
    "Sum: 12\n",
    "Difference: 8\n",
    "Product: 20\n",
    "Quotient: 5.0\n",
    "```"
   ]
  },
  {
   "cell_type": "code",
   "execution_count": null,
   "metadata": {
    "colab": {
     "base_uri": "https://localhost:8080/"
    },
    "id": "-7NwshZRhKm_",
    "outputId": "f7faa89e-c4ab-4caf-bfd7-06e7c4d200c3"
   },
   "outputs": [],
   "source": [
    "#TODO"
   ]
  },
  {
   "cell_type": "markdown",
   "metadata": {
    "id": "E7ZNRirGhMLC"
   },
   "source": [
    "### Problem 4: Using Functions to Organize Large Tasks with Modules"
   ]
  },
  {
   "cell_type": "markdown",
   "metadata": {
    "id": "dotdxW27hOGf"
   },
   "source": [
    "**Difficulty:** Advanced\n",
    "\n",
    "**Topics Covered:**\n",
    "- Using functions to organize large tasks\n",
    "- Modules - math\n",
    "- Modules - random Functions\n",
    "\n",
    "**Problem Statement:**\n",
    "\n",
    "Write a Python program that:\n",
    "1. Defines a function `calculate_circle_properties` that takes the radius of a circle as a parameter.\n",
    "   - The function should use the `math` module to return the area and circumference of the circle.\n",
    "2. Defines a function `generate_random_radius` that generates and returns a random radius between 1 and 10 using the `random` module.\n",
    "3. Calls the `generate_random_radius` function to get a random radius and then calls the `calculate_circle_properties` function with the generated radius.\n",
    "4. Prints the random radius, area, and circumference.\n",
    "\n",
    "**Example:**\n",
    "\n",
    "```plaintext\n",
    "Random radius: 7\n",
    "Area: 153.93804002589985\n",
    "Circumference: 43.982297150257104\n",
    "```\n"
   ]
  },
  {
   "cell_type": "code",
   "execution_count": null,
   "metadata": {
    "colab": {
     "base_uri": "https://localhost:8080/"
    },
    "id": "Mp4eS13fhQb4",
    "outputId": "a7420dc7-484f-40a5-f981-1192e19006b9"
   },
   "outputs": [],
   "source": [
    "#TODO"
   ]
  },
  {
   "cell_type": "markdown",
   "metadata": {
    "id": "kea6B_OOhR5Z"
   },
   "source": [
    "### Problem 5: Documenting Functions and Using sys Module"
   ]
  },
  {
   "cell_type": "markdown",
   "metadata": {
    "id": "huCj2Q0BhTun"
   },
   "source": [
    "**Difficulty:** Expert\n",
    "\n",
    "**Topics Covered:**\n",
    "- Documenting Functions\n",
    "- Module – sys Functions\n",
    "\n",
    "**Problem Statement:**\n",
    "\n",
    "Write a Python program that:\n",
    "1. Defines a function `process_arguments` that takes no parameters.\n",
    "   - The function should use the `sys` module to process command-line arguments.\n",
    "   - If the number of arguments is less than 2, print a usage message and return.\n",
    "   - Otherwise, return the first command-line argument.\n",
    "2. Calls the `process_arguments` function and prints the result.\n",
    "3. Ensures the function is properly documented with a docstring.\n",
    "\n",
    "**Example:**\n",
    "\n",
    "```plaintext\n",
    "# Command-line input:\n",
    "python script.py Hello\n",
    "\n",
    "# Output:\n",
    "First argument: Hello\n",
    "\n",
    "# Command-line input:\n",
    "python script.py\n",
    "\n",
    "# Output:\n",
    "Usage: python script.py <arg>\n",
    "```"
   ]
  },
  {
   "cell_type": "code",
   "execution_count": null,
   "metadata": {
    "id": "coCoZMXHhW-6"
   },
   "outputs": [],
   "source": [
    "#TODO"
   ]
  },
  {
   "cell_type": "markdown",
   "metadata": {
    "id": "kUQz8LRLj2hj"
   },
   "source": [
    "## Week 5"
   ]
  },
  {
   "cell_type": "markdown",
   "metadata": {
    "id": "iJ0LRh8kj4I5"
   },
   "source": [
    "### Problem 1: String Concatenation and Type Conversion"
   ]
  },
  {
   "cell_type": "markdown",
   "metadata": {
    "id": "z7cq3k_-j6Oz"
   },
   "source": [
    "**Difficulty:** Easy\n",
    "\n",
    "**Topics Covered:**\n",
    "- String concatenation\n",
    "- Type conversion with strings\n",
    "\n",
    "**Problem Statement:**\n",
    "\n",
    "Write a Python program that:\n",
    "1. Prompts the user to enter their first name and last name.\n",
    "2. Concatenates the first name and last name into a single string with a space in between.\n",
    "3. Prompts the user to enter their age.\n",
    "4. Prints a greeting message that includes the concatenated name and the user's age.\n",
    "\n",
    "**Example:**\n",
    "\n",
    "```plaintext\n",
    "Enter your first name: John\n",
    "Enter your last name: Doe\n",
    "Enter your age: 25\n",
    "Hello, John Doe! You are 25 years old.\n",
    "```"
   ]
  },
  {
   "cell_type": "code",
   "execution_count": null,
   "metadata": {
    "colab": {
     "base_uri": "https://localhost:8080/"
    },
    "id": "5Niptwcgj9nd",
    "outputId": "327b1c59-cb56-48ac-e35e-4e0b6b879182"
   },
   "outputs": [],
   "source": [
    "#TODO"
   ]
  },
  {
   "cell_type": "markdown",
   "metadata": {
    "id": "uPH9rlMPj-xY"
   },
   "source": [
    "### Problem 2: Accessing and Traversing Characters in a String"
   ]
  },
  {
   "cell_type": "markdown",
   "metadata": {
    "id": "0NOKo-V8la2f"
   },
   "source": [
    "**Difficulty:** Medium\n",
    "\n",
    "**Topics Covered:**\n",
    "- Accessing characters in a string\n",
    "- Traversing a string\n",
    "\n",
    "**Problem Statement:**\n",
    "\n",
    "Write a Python program that:\n",
    "1. Prompts the user to enter a word.\n",
    "2. Prints each character of the word on a new line using a `for` loop.\n",
    "\n",
    "**Example:**\n",
    "\n",
    "```plaintext\n",
    "Enter a word: Python\n",
    "P\n",
    "y\n",
    "t\n",
    "h\n",
    "o\n",
    "n\n",
    "```"
   ]
  },
  {
   "cell_type": "code",
   "execution_count": null,
   "metadata": {
    "colab": {
     "base_uri": "https://localhost:8080/"
    },
    "id": "DqODABrRlbl3",
    "outputId": "445c3a42-689e-4708-fa56-4b9d6be14750"
   },
   "outputs": [],
   "source": [
    "#TODO\n"
   ]
  },
  {
   "cell_type": "markdown",
   "metadata": {
    "id": "9Si4M9uYldqB"
   },
   "source": [
    "### Problem 3: String Slicing and Immutability"
   ]
  },
  {
   "cell_type": "markdown",
   "metadata": {
    "id": "b-4OGt6NlfmH"
   },
   "source": [
    "**Difficulty:** Intermediate\n",
    "\n",
    "**Topics Covered:**\n",
    "- String slicing\n",
    "- Immutability of strings\n",
    "\n",
    "**Problem Statement:**\n",
    "\n",
    "Write a Python program that:\n",
    "1. Prompts the user to enter a word.\n",
    "2. Prints the first half of the word using string slicing.\n",
    "3. Attempts to change the first character of the word (which should fail due to immutability).\n",
    "4. Prints a message explaining that strings are immutable and can't be changed.\n",
    "\n",
    "**Example:**\n",
    "\n",
    "```plaintext\n",
    "Enter a word: Example\n",
    "First half: Exam\n",
    "Strings are immutable and cannot be changed.\n",
    "```\n"
   ]
  },
  {
   "cell_type": "code",
   "execution_count": null,
   "metadata": {
    "colab": {
     "base_uri": "https://localhost:8080/"
    },
    "id": "0bhuxUEBlh5P",
    "outputId": "e9e0202b-8cb7-4764-e24c-bd5089dad412"
   },
   "outputs": [],
   "source": [
    "#TODO"
   ]
  },
  {
   "cell_type": "markdown",
   "metadata": {
    "id": "PJMgEq72ljSC"
   },
   "source": [
    "### Problem 4: Using the `in` Operator and String Comparisons"
   ]
  },
  {
   "cell_type": "markdown",
   "metadata": {
    "id": "-SKibIU2llHP"
   },
   "source": [
    "**Difficulty:** Advanced\n",
    "\n",
    "**Topics Covered:**\n",
    "- The `in` operator\n",
    "- String comparisons\n",
    "\n",
    "**Problem Statement:**\n",
    "\n",
    "Write a Python program that:\n",
    "1. Prompts the user to enter a sentence.\n",
    "2. Prompts the user to enter a word to search for in the sentence.\n",
    "3. Checks if the word is in the sentence using the `in` operator.\n",
    "4. Prints a message indicating whether the word was found.\n",
    "5. Compares two strings entered by the user and prints if they are equal or which one is greater (lexicographically).\n",
    "\n",
    "**Example:**\n",
    "\n",
    "```plaintext\n",
    "Enter a sentence: The quick brown fox jumps over the lazy dog.\n",
    "Enter a word to search for: fox\n",
    "The word 'fox' is in the sentence.\n",
    "\n",
    "Enter the first string: apple\n",
    "Enter the second string: banana\n",
    "'apple' is less than 'banana'.\n",
    "```"
   ]
  },
  {
   "cell_type": "code",
   "execution_count": null,
   "metadata": {
    "colab": {
     "base_uri": "https://localhost:8080/"
    },
    "id": "JqvoRFcXloDj",
    "outputId": "14b5ba24-2565-4c06-cddc-8168218c5069"
   },
   "outputs": [],
   "source": [
    "#TODO\n"
   ]
  },
  {
   "cell_type": "markdown",
   "metadata": {
    "id": "Ffa0QTsOlpn4"
   },
   "source": [
    "### Problem 5: String Methods"
   ]
  },
  {
   "cell_type": "markdown",
   "metadata": {
    "id": "PsiVkuRTlrRF"
   },
   "source": [
    "**Difficulty:** Expert\n",
    "\n",
    "**Topics Covered:**\n",
    "- String methods\n",
    "\n",
    "**Problem Statement:**\n",
    "\n",
    "Write a Python program that:\n",
    "1. Prompts the user to enter a sentence.\n",
    "2. Converts the sentence to uppercase using a string method and prints it.\n",
    "3. Counts and prints the number of occurrences of a specific character in the sentence (prompt the user for the character).\n",
    "4. Replaces all occurrences of one word with another word in the sentence (prompt the user for both words).\n",
    "5. Splits the sentence into a list of words and prints the list.\n",
    "\n",
    "**Example:**\n",
    "\n",
    "```plaintext\n",
    "Enter a sentence: The quick brown fox jumps over the lazy dog.\n",
    "Uppercase: THE QUICK BROWN FOX JUMPS OVER THE LAZY DOG.\n",
    "\n",
    "Enter a character to count: o\n",
    "The character 'o' occurs 4 times.\n",
    "\n",
    "Enter the word to replace: lazy\n",
    "Enter the new word: active\n",
    "New sentence: The quick brown fox jumps over the active dog.\n",
    "\n",
    "List of words: ['The', 'quick', 'brown', 'fox', 'jumps', 'over', 'the', 'active', 'dog.']\n",
    "```"
   ]
  },
  {
   "cell_type": "code",
   "execution_count": null,
   "metadata": {
    "colab": {
     "base_uri": "https://localhost:8080/",
     "height": 356
    },
    "id": "6YSgIAdTluPr",
    "outputId": "786e0ce0-7c50-4994-c9f5-71e4fc0b3457"
   },
   "outputs": [],
   "source": [
    "#TODO"
   ]
  },
  {
   "cell_type": "markdown",
   "metadata": {
    "id": "Z5uiLD0a5l35"
   },
   "source": [
    "##Week 6"
   ]
  },
  {
   "cell_type": "markdown",
   "metadata": {
    "id": "m_q2peTn7PvI"
   },
   "source": [
    "### Problem 1: Basic List Creation and Access\n"
   ]
  },
  {
   "cell_type": "markdown",
   "metadata": {
    "id": "Cev5QiTE7Yj3"
   },
   "source": [
    "**Difficulty:** Easy\n",
    "\n",
    "**Topics Covered:**\n",
    "- List constants and variables\n",
    "- Data types of list elements\n",
    "- Contents of a list\n",
    "- Accessing list elements\n",
    "\n",
    "**Problem Statement:**\n",
    "1. Create a list named `fruits` that contains the strings `\"apple\"`, `\"banana\"`, and `\"cherry\"`.\n",
    "2. Print the first and last elements of the `fruits` list.\n",
    "3. Print the type of the `fruits` list and the type of its first element.\n",
    "\n",
    "**Example Output:**\n",
    "```plaintext\n",
    "First fruit: apple\n",
    "Last fruit: cherry\n",
    "Type of fruits: <class 'list'>\n",
    "Type of the first element: <class 'str'>\n",
    "```"
   ]
  },
  {
   "cell_type": "code",
   "execution_count": null,
   "metadata": {
    "colab": {
     "base_uri": "https://localhost:8080/"
    },
    "id": "phMULQkB8V1S",
    "outputId": "e670f470-6c74-43d2-d9d8-d691a5c4a9d1"
   },
   "outputs": [],
   "source": [
    "#TODO"
   ]
  },
  {
   "cell_type": "markdown",
   "metadata": {
    "id": "FjZdkbew7izs"
   },
   "source": [
    "### Problem 2: Mutability and List Functions\n"
   ]
  },
  {
   "cell_type": "markdown",
   "metadata": {
    "id": "eIhTlriS7mxZ"
   },
   "source": [
    "**Difficulty:** Medium\n",
    "\n",
    "**Topics Covered:**\n",
    "- Mutability of a list\n",
    "- List functions (e.g., `len()`, `max()`, `min()`)\n",
    "- Traversing a list\n",
    "- The `range()` function\n",
    "\n",
    "**Problem Statement:**\n",
    "1. Prompt the user to enter 5 integers.\n",
    "2. Store these integers in a list called `numbers`.\n",
    "3. Change the second element of the list to `100` (demonstrating mutability).\n",
    "4. Print the length of the list, as well as the maximum and minimum values in the list.\n",
    "5. Traverse the list using a `for` loop and print each element.\n",
    "\n",
    "**Example:**\n",
    "```plaintext\n",
    "Enter 5 integers:\n",
    "10\n",
    "3\n",
    "7\n",
    "50\n",
    "2\n",
    "\n",
    "Modified list: [10, 100, 7, 50, 2]\n",
    "Length of list: 5\n",
    "Max value: 100\n",
    "Min value: 2\n",
    "List elements:\n",
    "10\n",
    "100\n",
    "7\n",
    "50\n",
    "2\n",
    "```"
   ]
  },
  {
   "cell_type": "code",
   "execution_count": null,
   "metadata": {
    "colab": {
     "base_uri": "https://localhost:8080/"
    },
    "id": "90W1_1TJ_4yw",
    "outputId": "8a51a729-4e9e-4692-c6aa-2f04eb9a137b"
   },
   "outputs": [],
   "source": [
    "#TODO\n"
   ]
  },
  {
   "cell_type": "markdown",
   "metadata": {
    "id": "zQRTxtIi7utC"
   },
   "source": [
    "### Problem 3: List Slicing, Deletion, and Methods\n"
   ]
  },
  {
   "cell_type": "markdown",
   "metadata": {
    "id": "ZPUg63Io7yUe"
   },
   "source": [
    "**Difficulty:** Intermediate\n",
    "\n",
    "**Topics Covered:**\n",
    "- List slicing\n",
    "- `del` operator\n",
    "- List methods (`append()`, `insert()`, `remove()`, etc.)\n",
    "- List concatenation and multiplication\n",
    "\n",
    "**Problem Statement:**\n",
    "1. Create a list named `colors` with at least 7 color names.\n",
    "2. Print the first 3 elements using slicing.\n",
    "3. Delete the third element using the `del` operator.\n",
    "4. Append a new color to the end of the list.\n",
    "5. Insert a color at the second position.\n",
    "6. Remove the last color from the list.\n",
    "7. Create another list of colors and concatenate it with your `colors` list.\n",
    "8. Multiply the `colors` list by 2 and print the result.\n",
    "\n",
    "**Example:**\n",
    "```plaintext\n",
    "Original colors: ['red', 'blue', 'green', 'yellow', 'purple', 'orange', 'black']\n",
    "First 3 colors: ['red', 'blue', 'green']\n",
    "After deletion: ['red', 'blue', 'yellow', 'purple', 'orange', 'black']\n",
    "After append: ['red', 'blue', 'yellow', 'purple', 'orange', 'black', 'white']\n",
    "After insert: ['red', 'pink', 'blue', 'yellow', 'purple', 'orange', 'black', 'white']\n",
    "After remove last: ['red', 'pink', 'blue', 'yellow', 'purple', 'orange', 'black']\n",
    "Concatenated: ['red', 'pink', 'blue', 'yellow', 'purple', 'orange', 'black', 'cyan', 'magenta']\n",
    "Multiplied by 2: ['red', 'pink', 'blue', 'yellow', 'purple', 'orange', 'black', 'cyan', 'magenta',\n",
    "                  'red', 'pink', 'blue', 'yellow', 'purple', 'orange', 'black', 'cyan', 'magenta']\n",
    "```"
   ]
  },
  {
   "cell_type": "code",
   "execution_count": null,
   "metadata": {
    "colab": {
     "base_uri": "https://localhost:8080/"
    },
    "id": "pGIiYfivIzGp",
    "outputId": "596e508f-1c3b-44da-c771-44f2026efa3c"
   },
   "outputs": [],
   "source": [
    "#TODO"
   ]
  },
  {
   "cell_type": "markdown",
   "metadata": {
    "id": "9CiXNQHw76-4"
   },
   "source": [
    "### Problem 4: List Aliasing and Passing Lists as Arguments"
   ]
  },
  {
   "cell_type": "markdown",
   "metadata": {
    "id": "vwWGaPo28BvW"
   },
   "source": [
    "**Difficulty:** Advanced\n",
    "\n",
    "**Topics Covered:**\n",
    "- List aliasing\n",
    "- Lists as function arguments\n",
    "\n",
    "**Problem Statement:**\n",
    "1. Create a list `nums` of integers.\n",
    "2. Create an alias of `nums` called `alias_nums`.\n",
    "3. Modify `alias_nums` and show that it affects `nums`.\n",
    "4. Define a function `double_values(lst)` that takes a list of integers as an argument and doubles each value.\n",
    "5. Pass your `nums` list to `double_values()` and print the updated list.\n",
    "\n",
    "**Example:**\n",
    "```plaintext\n",
    "Original nums: [1, 2, 3, 4]\n",
    "After aliasing and modifying alias_nums: nums is now [1, 2, 3, 4, 5]\n",
    "Doubling values in nums...\n",
    "nums after doubling: [2, 4, 6, 8, 10]\n",
    "```\n",
    "\n"
   ]
  },
  {
   "cell_type": "code",
   "execution_count": null,
   "metadata": {
    "colab": {
     "base_uri": "https://localhost:8080/"
    },
    "id": "odHW2aaeJmal",
    "outputId": "0095536f-f1db-4a6e-e63e-2cbdaf6feb3c"
   },
   "outputs": [],
   "source": [
    "#TODO"
   ]
  },
  {
   "cell_type": "markdown",
   "metadata": {
    "id": "y57-ggR38GWU"
   },
   "source": [
    "### Problem 5: List Comprehensions and Complex Transformations"
   ]
  },
  {
   "cell_type": "markdown",
   "metadata": {
    "id": "uaQZZWO-8MPl"
   },
   "source": [
    "**Difficulty:** Expert\n",
    "\n",
    "**Topics Covered:**\n",
    "- List comprehension\n",
    "- Combining multiple list operations\n",
    "\n",
    "**Problem Statement:**\n",
    "1. Prompt the user to enter a list of integers separated by spaces.\n",
    "2. Convert the input string into a list of integers.\n",
    "3. Use a list comprehension to create a new list that contains only the even numbers squared from the original list.\n",
    "4. Print both the original list and the transformed list.\n",
    "5. Use another list comprehension to create a list of strings that say `\"Number X is even\"` for each even number in the original list.\n",
    "6. Print this descriptive list.\n",
    "\n",
    "**Example:**\n",
    "```plaintext\n",
    "Enter integers separated by spaces: 1 2 3 4 5 6\n",
    "Original list: [1, 2, 3, 4, 5, 6]\n",
    "Even numbers squared: [4, 16, 36]\n",
    "Descriptive list for evens: ['Number 2 is even', 'Number 4 is even', 'Number 6 is even']\n",
    "```"
   ]
  },
  {
   "cell_type": "code",
   "execution_count": null,
   "metadata": {
    "colab": {
     "base_uri": "https://localhost:8080/"
    },
    "id": "jVSeS5DyQYbN",
    "outputId": "4df76c65-9b24-480d-fc6a-5052fbf5127b"
   },
   "outputs": [],
   "source": [
    "#TODO"
   ]
  },
  {
   "cell_type": "markdown",
   "metadata": {
    "id": "VQAIl8k9SaI2"
   },
   "source": [
    "#Week7"
   ]
  },
  {
   "cell_type": "markdown",
   "metadata": {
    "id": "EnK8g2KOSnfq"
   },
   "source": [
    "### Problem 1: Basic Dictionary Creation and Access"
   ]
  },
  {
   "cell_type": "markdown",
   "metadata": {
    "id": "yeM0Thx_TLL2"
   },
   "source": [
    "**Difficulty:** Easy\n",
    "\n",
    "**Topics Covered:**\n",
    "- Creating a dictionary\n",
    "- Looking up or accessing values in a dictionary\n",
    "\n",
    "**Problem Statement:**\n",
    "1. Create a dictionary called `capitals` that maps at least three country names (strings) to their capital cities (strings).\n",
    "2. Prompt the user to enter a country name.\n",
    "3. Lookup and print the corresponding capital city from the dictionary.\n",
    "4. If the country is not in the dictionary, print a message stating that the capital is unknown.\n",
    "\n",
    "**Example:**\n",
    "```plaintext\n",
    "capitals = {\"France\": \"Paris\", \"Japan\": \"Tokyo\", \"Brazil\": \"Brasilia\"}\n",
    "\n",
    "Enter a country: Japan\n",
    "Capital: Tokyo\n",
    "```\n"
   ]
  },
  {
   "cell_type": "code",
   "execution_count": null,
   "metadata": {
    "colab": {
     "base_uri": "https://localhost:8080/"
    },
    "id": "JGcfMFSwTVeV",
    "outputId": "1892715a-5d58-478e-afb5-ced9bb0a50a5"
   },
   "outputs": [],
   "source": [
    "#TODO"
   ]
  },
  {
   "cell_type": "markdown",
   "metadata": {
    "id": "IJ8Iebj_SsyA"
   },
   "source": [
    "### Problem 2: Counting Items in a Dictionary"
   ]
  },
  {
   "cell_type": "markdown",
   "metadata": {
    "id": "r35hdnQ5TIJO"
   },
   "source": [
    "**Difficulty:** Medium\n",
    "\n",
    "**Topics Covered:**\n",
    "- Number of items in a dictionary\n",
    "- Dictionary Functions (e.g., `len()`)\n",
    "\n",
    "**Problem Statement:**\n",
    "1. Create a dictionary `student_scores` where each key is a student name and each value is their score.\n",
    "2. Print the number of items in the dictionary using the `len()` function.\n",
    "3. Prompt the user to enter a student's name and print their score if it exists.\n",
    "4. If it does not exist, print a message indicating that the student is not found.\n",
    "\n",
    "**Example:**\n",
    "```plaintext\n",
    "student_scores = {\"Alice\": 89, \"Bob\": 72, \"Charlie\": 95}\n",
    "\n",
    "Number of students: 3\n",
    "Enter a student name: Bob\n",
    "Bob's score: 72\n",
    "```"
   ]
  },
  {
   "cell_type": "code",
   "execution_count": null,
   "metadata": {
    "colab": {
     "base_uri": "https://localhost:8080/"
    },
    "id": "XBiZq0_wN7-E",
    "outputId": "5737fbca-669f-4280-9269-5fe1ccd1f3e6"
   },
   "outputs": [],
   "source": [
    "#TODO"
   ]
  },
  {
   "cell_type": "markdown",
   "metadata": {
    "id": "fDrOYqsaSweD"
   },
   "source": [
    "\n",
    "### Problem 3: Updating and Adding Items to a Dictionary"
   ]
  },
  {
   "cell_type": "markdown",
   "metadata": {
    "id": "rUybAdrJTDfT"
   },
   "source": [
    "**Difficulty:** Intermediate\n",
    "\n",
    "**Topics Covered:**\n",
    "- Updating a dictionary\n",
    "- Dictionary Functions (`keys()`, `values()`, `items()`)\n",
    "\n",
    "**Problem Statement:**\n",
    "1. Create a dictionary `inventory` with item names as keys and their quantities as values.\n",
    "2. Prompt the user to enter an item name and a quantity.\n",
    "3. Update the dictionary:\n",
    "   - If the item already exists, increase its quantity by the entered amount.\n",
    "   - If it doesn't exist, add the new item with the given quantity.\n",
    "4. Print the entire dictionary after the update.\n",
    "\n",
    "**Example:**\n",
    "```plaintext\n",
    "inventory = {\"apple\": 10, \"banana\": 5, \"orange\": 3}\n",
    "\n",
    "Enter an item: banana\n",
    "Enter a quantity: 4\n",
    "Updated inventory: {'apple': 10, 'banana': 9, 'orange': 3}\n",
    "```"
   ]
  },
  {
   "cell_type": "code",
   "execution_count": null,
   "metadata": {
    "colab": {
     "base_uri": "https://localhost:8080/"
    },
    "id": "5rok8559U7N0",
    "outputId": "5d2ee8c0-019c-4ccf-e507-b22611c4071c"
   },
   "outputs": [],
   "source": [
    "#TODO"
   ]
  },
  {
   "cell_type": "markdown",
   "metadata": {
    "id": "hA0sjgc7Szrr"
   },
   "source": [
    "\n",
    "\n",
    "### Problem 4: Using Dictionary Methods to Manage Data"
   ]
  },
  {
   "cell_type": "markdown",
   "metadata": {
    "id": "zA0404hDS_NU"
   },
   "source": [
    "**Difficulty:** Advanced\n",
    "\n",
    "**Topics Covered:**\n",
    "- Dictionary Methods (`get()`, `pop()`, `update()`)\n",
    "\n",
    "**Problem Statement:**\n",
    "1. Create a dictionary `phone_book` with names as keys and phone numbers as values.\n",
    "2. Prompt the user to enter a name.\n",
    "3. Use the `get()` method to safely retrieve the phone number. If it doesn't exist, print a message indicating no entry found.\n",
    "4. Prompt the user if they want to remove an entry. If yes, use `pop()` to remove it.\n",
    "5. Prompt the user if they want to add or update another entry. If yes, use `update()` to add or change it.\n",
    "6. Print the final `phone_book` after these operations.\n",
    "\n",
    "**Example:**\n",
    "```plaintext\n",
    "phone_book = {\"Alice\": \"555-1234\", \"Bob\": \"555-5678\", \"Charlie\": \"555-8765\"}\n",
    "\n",
    "Enter a name to look up: Bob\n",
    "Bob's number is 555-5678\n",
    "Remove an entry? (yes/no): yes\n",
    "Enter name to remove: Alice\n",
    "Add or update an entry? (yes/no): yes\n",
    "Enter name: Dave\n",
    "Enter number: 555-0000\n",
    "\n",
    "Final phone book: {'Bob': '555-5678', 'Charlie': '555-8765', 'Dave': '555-0000'}\n",
    "```\n"
   ]
  },
  {
   "cell_type": "markdown",
   "metadata": {
    "id": "E6trry5MS2MP"
   },
   "source": [
    "\n",
    "### Problem 5: Complex Dictionary Operations and Data Processing"
   ]
  },
  {
   "cell_type": "markdown",
   "metadata": {
    "id": "kpQpiwWiS5PB"
   },
   "source": [
    "**Difficulty:** Expert\n",
    "\n",
    "**Topics Covered:**\n",
    "- Complex usage of dictionary functions and methods\n",
    "- Combining dictionary updates and lookups with data processing\n",
    "\n",
    "**Problem Statement:**\n",
    "1. Create a dictionary `product_prices` where keys are product names and values are their prices.\n",
    "2. Prompt the user to enter a list of products (separated by commas).\n",
    "3. For each product in the user's list:\n",
    "   - Use `get()` to find its price.\n",
    "   - If the product is found, add it to a `shopping_cart` dictionary which keeps track of how many times each product was requested.\n",
    "   - If not found, print a message that the product is not available.\n",
    "4. After processing all user requests, create a `receipt` dictionary that maps each product to its total cost (quantity * price).\n",
    "5. Print the `receipt` dictionary and the total cost of all items combined.\n",
    "\n",
    "**Example:**\n",
    "```plaintext\n",
    "product_prices = {\"milk\": 1.50, \"bread\": 2.00, \"eggs\": 3.00, \"cheese\": 4.50}\n",
    "Enter products separated by commas: milk,bread,bread,eggs,apples\n",
    "\n",
    "'apples' not available.\n",
    "Receipt: {'milk': 1.50, 'bread': 4.00, 'eggs': 3.00}\n",
    "Total cost: 8.50\n",
    "```\n",
    "\n",
    "These problems gradually introduce and build upon concepts related to dictionaries, starting with creation and basic lookups, then expanding into updates, dictionary functions and methods, and more complex data processing scenarios."
   ]
  },
  {
   "cell_type": "code",
   "execution_count": null,
   "metadata": {
    "colab": {
     "base_uri": "https://localhost:8080/"
    },
    "id": "i23DGGGRg_s7",
    "outputId": "e65d997d-6c0d-49cc-d01c-4e82d8f386cd"
   },
   "outputs": [],
   "source": [
    "#TODO\n"
   ]
  },
  {
   "cell_type": "markdown",
   "metadata": {
    "id": "LHBHsC3laXmC"
   },
   "source": []
  },
  {
   "cell_type": "markdown",
   "metadata": {
    "id": "7uDKjqN9YaVX"
   },
   "source": [
    "#Week 8"
   ]
  },
  {
   "cell_type": "markdown",
   "metadata": {
    "id": "XIELKj9LYclZ"
   },
   "source": [
    "### Problem 1: Writing to and Reading from a Text File\n"
   ]
  },
  {
   "cell_type": "markdown",
   "metadata": {
    "id": "avuBKcHtZhkq"
   },
   "source": [
    "\n",
    "**Difficulty:** Easy  \n",
    "**Topics Covered:**\n",
    "- Writing to a text file\n",
    "- Reading from a text file\n",
    "\n",
    "**Problem Statement:**\n",
    "\n",
    "Write a Python program that:\n",
    "1. Prompts the user to enter five lines of text.\n",
    "2. Writes each line to a text file named `output.txt`.\n",
    "3. Reads the contents of `output.txt` and prints them line by line.\n",
    "\n",
    "**Example:**\n",
    "\n",
    "```plaintext\n",
    "Enter line 1: Hello, World!\n",
    "Enter line 2: Welcome to Python file handling.\n",
    "Enter line 3: This is line 3.\n",
    "Enter line 4: Almost done.\n",
    "Enter line 5: File writing complete.\n",
    "\n",
    "Contents of the file:\n",
    "Hello, World!\n",
    "Welcome to Python file handling.\n",
    "This is line 3.\n",
    "Almost done.\n",
    "File writing complete.\n",
    "```"
   ]
  },
  {
   "cell_type": "code",
   "execution_count": null,
   "metadata": {
    "colab": {
     "base_uri": "https://localhost:8080/"
    },
    "id": "uZdGtvT-Yh5_",
    "outputId": "6b6be889-f961-4761-e63c-8b87930b6889"
   },
   "outputs": [],
   "source": [
    "#TODO"
   ]
  },
  {
   "cell_type": "markdown",
   "metadata": {
    "id": "hr0OX6psYvOP"
   },
   "source": [
    "### Problem 2: Appending to an Existing Text File and Handling Newline Characters"
   ]
  },
  {
   "cell_type": "markdown",
   "metadata": {
    "id": "EGdxIHrOZcma"
   },
   "source": [
    "\n",
    "**Difficulty:** Medium  \n",
    "**Topics Covered:**\n",
    "- Appending to an existing text file\n",
    "- Role of the newline character when writing to a text file\n",
    "\n",
    "**Problem Statement:**\n",
    "\n",
    "Write a Python program that:\n",
    "1. Opens an existing text file named `data.txt` in append mode. If the file does not exist, it creates the file.\n",
    "2. Appends three new lines to the file, ensuring that each new line starts on a new line in the file.\n",
    "3. Reads the entire file and prints its contents.\n",
    "\n",
    "**Example:**\n",
    "\n",
    "```plaintext\n",
    "Contents of the file after appending:\n",
    "Line 1: Existing content\n",
    "Line 2: New content added here.\n",
    "Line 3: Appending another line.\n",
    "Line 4: Final line added.\n",
    "```"
   ]
  },
  {
   "cell_type": "code",
   "execution_count": null,
   "metadata": {
    "colab": {
     "base_uri": "https://localhost:8080/"
    },
    "id": "zQm1jiN8ZdRM",
    "outputId": "f2318d96-220c-46c0-c264-f7a3e65101ea"
   },
   "outputs": [],
   "source": [
    "#TODO"
   ]
  },
  {
   "cell_type": "markdown",
   "metadata": {
    "id": "VT4G93_IY4am"
   },
   "source": [
    "### Problem 3: Using the `with`-`as` Construct for File Operations\n"
   ]
  },
  {
   "cell_type": "markdown",
   "metadata": {
    "id": "HCBYrUm7ZU2I"
   },
   "source": [
    "\n",
    "**Difficulty:** Intermediate  \n",
    "**Topics Covered:**\n",
    "- The with-as construct\n",
    "\n",
    "**Problem Statement:**\n",
    "\n",
    "Write a Python program that:\n",
    "1. Prompts the user to enter the name of a file and its contents.\n",
    "2. Uses the `with`-`as` construct to write the entered content to the specified file.\n",
    "3. Uses the `with`-`as` construct to read the content from the same file and prints it.\n",
    "\n",
    "**Example:**\n",
    "\n",
    "```plaintext\n",
    "Enter the name of the file: example.txt\n",
    "Enter the content of the file:\n",
    "Python is amazing!\n",
    "This file demonstrates the with-as construct.\n",
    "\n",
    "Contents of the file:\n",
    "Python is amazing!\n",
    "This file demonstrates the with-as construct.\n",
    "```"
   ]
  },
  {
   "cell_type": "code",
   "execution_count": null,
   "metadata": {
    "id": "T1VyTAqFm8t3"
   },
   "outputs": [],
   "source": []
  },
  {
   "cell_type": "code",
   "execution_count": null,
   "metadata": {
    "colab": {
     "base_uri": "https://localhost:8080/"
    },
    "id": "YogdA_UIZVlF",
    "outputId": "fc8799d8-7b94-483c-dac0-a814599d19f4"
   },
   "outputs": [],
   "source": [
    "#TODO"
   ]
  },
  {
   "cell_type": "markdown",
   "metadata": {
    "id": "6q04JViOZA-j"
   },
   "source": [
    "### Problem 4: Writing and Reading Objects to/from a Binary File\n"
   ]
  },
  {
   "cell_type": "markdown",
   "metadata": {
    "id": "CduOxbd7ZNIU"
   },
   "source": [
    "\n",
    "**Difficulty:** Advanced  \n",
    "**Topics Covered:**\n",
    "- Writing objects of a class to a binary file\n",
    "- Reading objects of a class from a binary file\n",
    "\n",
    "**Problem Statement:**\n",
    "\n",
    "Write a Python program that:\n",
    "1. Defines a class `Student` with attributes `name` (str) and `grade` (int).\n",
    "2. Creates a list of `Student` objects.\n",
    "3. Writes the list of objects to a binary file named `students.dat`.\n",
    "4. Reads the list of objects from the binary file and prints each student's name and grade.\n",
    "\n",
    "**Example:**\n",
    "\n",
    "```plaintext\n",
    "Contents of the binary file:\n",
    "Name: Alice, Grade: 85\n",
    "Name: Bob, Grade: 92\n",
    "Name: Charlie, Grade: 78\n",
    "```"
   ]
  },
  {
   "cell_type": "code",
   "execution_count": null,
   "metadata": {
    "id": "8iBNyruKZN6C"
   },
   "outputs": [],
   "source": [
    "#TODO"
   ]
  },
  {
   "cell_type": "markdown",
   "metadata": {
    "id": "_gfBNLheZDoK"
   },
   "source": [
    "### Problem 5: Combining File Operations for Task Automation\n"
   ]
  },
  {
   "cell_type": "markdown",
   "metadata": {
    "id": "HoOKs1zJZG-a"
   },
   "source": [
    "\n",
    "**Difficulty:** Expert  \n",
    "**Topics Covered:**\n",
    "- Writing to a text file\n",
    "- Appending to an existing text file\n",
    "- Using the `with`-`as` construct\n",
    "- Writing and reading objects from a binary file\n",
    "\n",
    "**Problem Statement:**\n",
    "\n",
    "Write a Python program that:\n",
    "1. Prompts the user to enter multiple lines of text and writes them to a file named `tasks.txt` using the `with`-`as` construct.\n",
    "2. Appends a timestamp of when the file was last modified to the same file.\n",
    "3. Defines a class `Task` with attributes `title` (str) and `status` (str: \"complete\" or \"incomplete\").\n",
    "4. Creates a binary file `tasks.dat` to store `Task` objects created from the contents of `tasks.txt`.\n",
    "5. Reads the `Task` objects from `tasks.dat` and prints their details.\n",
    "\n",
    "**Example:**\n",
    "\n",
    "```plaintext\n",
    "Contents of the tasks.txt file:\n",
    "Task 1: Finish homework\n",
    "Task 2: Call mom\n",
    "Task 3: Buy groceries\n",
    "Last modified: 2024-12-11 15:45:00\n",
    "\n",
    "Contents of the binary file:\n",
    "Task: Finish homework, Status: incomplete\n",
    "Task: Call mom, Status: complete\n",
    "Task: Buy groceries, Status: incomplete\n",
    "```"
   ]
  },
  {
   "cell_type": "code",
   "execution_count": null,
   "metadata": {
    "id": "M5iLBAgUZIL2"
   },
   "outputs": [],
   "source": [
    "#TODO"
   ]
  }
 ],
 "metadata": {
  "colab": {
   "collapsed_sections": [
    "_VuU0n1sVQoM",
    "WLieMekB8Qew",
    "WnTL7YwrG55Y",
    "0M7MpeDuNln3",
    "C2Dt0A3WRN5r",
    "aWu69f5UWIJJ",
    "jbIJpM3YWWaz",
    "Yx9kdzjEW4Iu",
    "DGHUdiDrXAbV",
    "do3NAuDOXHdI",
    "4pSoQK-5eiDL",
    "nVVlTTSAel7J",
    "9ro9ux6tezR0",
    "8Ik2suw1e5k8",
    "AoZ5QPcae_ez",
    "z0RDbX29g2hE",
    "kUQz8LRLj2hj"
   ],
   "provenance": []
  },
  "kernelspec": {
   "display_name": "Python 3",
   "name": "python3"
  }
 },
 "nbformat": 4,
 "nbformat_minor": 0
}
